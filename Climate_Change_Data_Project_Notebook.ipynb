{
  "nbformat": 4,
  "nbformat_minor": 0,
  "metadata": {
    "colab": {
      "name": "Climate Change Data Project Notebook.ipynb",
      "provenance": []
    },
    "kernelspec": {
      "name": "python3",
      "display_name": "Python 3"
    },
    "language_info": {
      "name": "python"
    }
  },
  "cells": [
    {
      "cell_type": "code",
      "metadata": {
        "id": "ScxSxlA1UaRM"
      },
      "source": [
        "!pip install -U -q PyDrive\n",
        "\n",
        "import os\n",
        "from pydrive.auth import GoogleAuth\n",
        "from pydrive.drive import GoogleDrive\n",
        "from google.colab import auth\n",
        "from oauth2client.client import GoogleCredentials\n",
        "# Authenticate and create the PyDrive client.\n",
        "auth.authenticate_user()\n",
        "gauth = GoogleAuth()\n",
        "gauth.credentials = GoogleCredentials.get_application_default()\n",
        "drive = GoogleDrive(gauth)"
      ],
      "execution_count": null,
      "outputs": []
    },
    {
      "cell_type": "code",
      "metadata": {
        "colab": {
          "base_uri": "https://localhost:8080/"
        },
        "id": "qKl86MXUTONL",
        "outputId": "e865ee63-bb24-4d10-f217-f63cbccad975"
      },
      "source": [
        "#This code imports Google Drive to Google Colab\n",
        "from google.colab import drive\n",
        "drive.mount('/content/drive')"
      ],
      "execution_count": null,
      "outputs": [
        {
          "output_type": "stream",
          "text": [
            "Drive already mounted at /content/drive; to attempt to forcibly remount, call drive.mount(\"/content/drive\", force_remount=True).\n"
          ],
          "name": "stdout"
        }
      ]
    },
    {
      "cell_type": "markdown",
      "metadata": {
        "id": "mlDyoSoM2OwC"
      },
      "source": [
        "# Analyzing how the Discussion of Climate Change has shifted from the 1980's to the present day\n"
      ]
    },
    {
      "cell_type": "markdown",
      "metadata": {
        "id": "ICZno1Ia2dWn"
      },
      "source": [
        "This notebook, in collaboration with a storyboard, will tell the story of how the discussion of increasing global average surface temperatures has changed over the past 40 years. More specifically, I will be using data from The New York Times Archives for the years 1980-2010 to analyze how the language and content changes.\n",
        " "
      ]
    },
    {
      "cell_type": "markdown",
      "metadata": {
        "id": "QU7BZUX72_So"
      },
      "source": [
        "The main questions we will explore:\n",
        "- How have the themes surrounding the conversation of climate change shifted over the years?\n",
        "- When did shift from just noticing an increase in temperature to discussing the causes and implications?\n",
        "- Was climate change misunderstood in the past?\n",
        "- Is there overlap between how it is discussed today vs. in the past? "
      ]
    },
    {
      "cell_type": "code",
      "metadata": {
        "id": "qiOnqswFUWyS"
      },
      "source": [
        ""
      ],
      "execution_count": null,
      "outputs": []
    },
    {
      "cell_type": "markdown",
      "metadata": {
        "id": "AC9mNOaliqhZ"
      },
      "source": [
        "#Data Collection"
      ]
    },
    {
      "cell_type": "markdown",
      "metadata": {
        "id": "WnWV_HjTit1-"
      },
      "source": [
        "For my data, I collected 25 articles for each decade (1980-1990, 1990-2000, 2000-2010) from The New York Times Archive. All of these articles were found under the topic \"climate change.\" I used newspaper3k for web scraping these articles then imported them into a csv.\n",
        "\n"
      ]
    },
    {
      "cell_type": "markdown",
      "metadata": {
        "id": "YRMWBgnyS7FV"
      },
      "source": [
        "The steps are as follows: \n",
        "1. Download the latest version of Python\n",
        "2. pip install newspaper3k\n",
        "3. Write python script to scrape web pages (included in data folder of Google Drive)\n",
        "4. Write the scrape output to csv "
      ]
    },
    {
      "cell_type": "markdown",
      "metadata": {
        "id": "YAmTRlhAOBqM"
      },
      "source": [
        "#Word Clouds\n"
      ]
    },
    {
      "cell_type": "markdown",
      "metadata": {
        "id": "YuK2XCmn2_3a"
      },
      "source": [
        "In order to visualize the overall themes from each decade, I will be using word clouds to see if I can identify any overarching themes and patterns."
      ]
    },
    {
      "cell_type": "markdown",
      "metadata": {
        "id": "ErPRiaOiONMf"
      },
      "source": [
        "#LDA Topic Modeling"
      ]
    },
    {
      "cell_type": "markdown",
      "metadata": {
        "id": "bgCWJBVp23e3"
      },
      "source": [
        "Here, I will use LDA topic modeling to finding the topics that occur in the articles from each decade."
      ]
    },
    {
      "cell_type": "markdown",
      "metadata": {
        "id": "cixflIhNTsPK"
      },
      "source": [
        "#Article Count Visualizations"
      ]
    },
    {
      "cell_type": "markdown",
      "metadata": {
        "id": "7Eg5lrfUTxjb"
      },
      "source": [
        "I will create a graphic showing how the number of articls about climate change increases. I may do this through a line graph of each year, or by the number of articles per decade."
      ]
    }
  ]
}